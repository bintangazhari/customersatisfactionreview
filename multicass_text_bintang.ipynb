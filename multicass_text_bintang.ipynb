{
  "cells": [
    {
      "cell_type": "markdown",
      "metadata": {
        "id": "view-in-github",
        "colab_type": "text"
      },
      "source": [
        "<a href=\"https://colab.research.google.com/github/bintangazhari/multiclasstextclassification/blob/main/multicass_text_bintang.ipynb\" target=\"_parent\"><img src=\"https://colab.research.google.com/assets/colab-badge.svg\" alt=\"Open In Colab\"/></a>"
      ]
    },
    {
      "cell_type": "markdown",
      "metadata": {
        "id": "OdnJ2eRrPcSk"
      },
      "source": [
        "This is a Multiclass text classification (NLP) by Bintang Azhari\n",
        "This dataset is taken from Kaggle\n",
        "https://www.kaggle.com/datasets/nelgiriyewithana/shoppersentiments\n",
        "In this project, I would like to predict the satisfaction level based on the review\n",
        "The satisfaction level is defined below in the comment"
      ]
    },
    {
      "cell_type": "markdown",
      "metadata": {
        "id": "SHxch8B3PcSn"
      },
      "source": [
        "First, Let's try to download the dataset from kaggle\n",
        "\n",
        "Reference I use:\n",
        "https://ravi-chan.medium.com/how-to-download-any-data-set-from-kaggle-7e2adc152d7f"
      ]
    },
    {
      "cell_type": "code",
      "execution_count": null,
      "metadata": {
        "id": "iBTR5pnxPcSo",
        "outputId": "6ee05ca2-2211-4575-8b00-8ab1e260ecf1"
      },
      "outputs": [
        {
          "name": "stdout",
          "output_type": "stream",
          "text": [
            "Requirement already satisfied: nltk in c:\\users\\admin\\appdata\\local\\packages\\pythonsoftwarefoundation.python.3.11_qbz5n2kfra8p0\\localcache\\local-packages\\python311\\site-packages (3.8.1)\n",
            "Requirement already satisfied: matplotlib in c:\\users\\admin\\appdata\\local\\packages\\pythonsoftwarefoundation.python.3.11_qbz5n2kfra8p0\\localcache\\local-packages\\python311\\site-packages (3.8.2)\n",
            "Requirement already satisfied: click in c:\\users\\admin\\appdata\\local\\packages\\pythonsoftwarefoundation.python.3.11_qbz5n2kfra8p0\\localcache\\local-packages\\python311\\site-packages (from nltk) (8.1.7)\n",
            "Requirement already satisfied: joblib in c:\\users\\admin\\appdata\\local\\packages\\pythonsoftwarefoundation.python.3.11_qbz5n2kfra8p0\\localcache\\local-packages\\python311\\site-packages (from nltk) (1.3.2)\n",
            "Requirement already satisfied: regex>=2021.8.3 in c:\\users\\admin\\appdata\\local\\packages\\pythonsoftwarefoundation.python.3.11_qbz5n2kfra8p0\\localcache\\local-packages\\python311\\site-packages (from nltk) (2023.12.25)\n",
            "Requirement already satisfied: tqdm in c:\\users\\admin\\appdata\\local\\packages\\pythonsoftwarefoundation.python.3.11_qbz5n2kfra8p0\\localcache\\local-packages\\python311\\site-packages (from nltk) (4.66.1)\n",
            "Requirement already satisfied: contourpy>=1.0.1 in c:\\users\\admin\\appdata\\local\\packages\\pythonsoftwarefoundation.python.3.11_qbz5n2kfra8p0\\localcache\\local-packages\\python311\\site-packages (from matplotlib) (1.2.0)\n",
            "Requirement already satisfied: cycler>=0.10 in c:\\users\\admin\\appdata\\local\\packages\\pythonsoftwarefoundation.python.3.11_qbz5n2kfra8p0\\localcache\\local-packages\\python311\\site-packages (from matplotlib) (0.12.1)\n",
            "Requirement already satisfied: fonttools>=4.22.0 in c:\\users\\admin\\appdata\\local\\packages\\pythonsoftwarefoundation.python.3.11_qbz5n2kfra8p0\\localcache\\local-packages\\python311\\site-packages (from matplotlib) (4.47.0)\n",
            "Requirement already satisfied: kiwisolver>=1.3.1 in c:\\users\\admin\\appdata\\local\\packages\\pythonsoftwarefoundation.python.3.11_qbz5n2kfra8p0\\localcache\\local-packages\\python311\\site-packages (from matplotlib) (1.4.5)\n",
            "Requirement already satisfied: numpy<2,>=1.21 in c:\\users\\admin\\appdata\\local\\packages\\pythonsoftwarefoundation.python.3.11_qbz5n2kfra8p0\\localcache\\local-packages\\python311\\site-packages (from matplotlib) (1.24.2)\n",
            "Requirement already satisfied: packaging>=20.0 in c:\\users\\admin\\appdata\\local\\packages\\pythonsoftwarefoundation.python.3.11_qbz5n2kfra8p0\\localcache\\local-packages\\python311\\site-packages (from matplotlib) (23.0)\n",
            "Requirement already satisfied: pillow>=8 in c:\\users\\admin\\appdata\\local\\packages\\pythonsoftwarefoundation.python.3.11_qbz5n2kfra8p0\\localcache\\local-packages\\python311\\site-packages (from matplotlib) (10.1.0)\n",
            "Requirement already satisfied: pyparsing>=2.3.1 in c:\\users\\admin\\appdata\\local\\packages\\pythonsoftwarefoundation.python.3.11_qbz5n2kfra8p0\\localcache\\local-packages\\python311\\site-packages (from matplotlib) (3.0.9)\n",
            "Requirement already satisfied: python-dateutil>=2.7 in c:\\users\\admin\\appdata\\local\\packages\\pythonsoftwarefoundation.python.3.11_qbz5n2kfra8p0\\localcache\\local-packages\\python311\\site-packages (from matplotlib) (2.8.2)\n",
            "Requirement already satisfied: six>=1.5 in c:\\users\\admin\\appdata\\local\\packages\\pythonsoftwarefoundation.python.3.11_qbz5n2kfra8p0\\localcache\\local-packages\\python311\\site-packages (from python-dateutil>=2.7->matplotlib) (1.16.0)\n",
            "Requirement already satisfied: colorama in c:\\users\\admin\\appdata\\local\\packages\\pythonsoftwarefoundation.python.3.11_qbz5n2kfra8p0\\localcache\\local-packages\\python311\\site-packages (from click->nltk) (0.4.6)\n",
            "Note: you may need to restart the kernel to use updated packages.\n"
          ]
        },
        {
          "name": "stderr",
          "output_type": "stream",
          "text": [
            "\n",
            "[notice] A new release of pip is available: 23.3.1 -> 23.3.2\n",
            "[notice] To update, run: C:\\Users\\Admin\\AppData\\Local\\Microsoft\\WindowsApps\\PythonSoftwareFoundation.Python.3.11_qbz5n2kfra8p0\\python.exe -m pip install --upgrade pip\n"
          ]
        }
      ],
      "source": [
        "pip install nltk matplotlib"
      ]
    },
    {
      "cell_type": "code",
      "execution_count": null,
      "metadata": {
        "id": "FIO-563XPcSq",
        "outputId": "95640b8b-315f-41be-ba6c-d6903de83b56"
      },
      "outputs": [
        {
          "name": "stdout",
          "output_type": "stream",
          "text": [
            "WARNING:tensorflow:From C:\\Users\\Admin\\AppData\\Local\\Packages\\PythonSoftwareFoundation.Python.3.11_qbz5n2kfra8p0\\LocalCache\\local-packages\\Python311\\site-packages\\keras\\src\\losses.py:2976: The name tf.losses.sparse_softmax_cross_entropy is deprecated. Please use tf.compat.v1.losses.sparse_softmax_cross_entropy instead.\n",
            "\n"
          ]
        }
      ],
      "source": [
        "import pandas as pd\n",
        "import numpy as np\n",
        "import os\n",
        "import shutil\n",
        "import opendatasets\n",
        "from zipfile import ZipFile\n",
        "import re\n",
        "\n",
        "import nltk\n",
        "from nltk.corpus import stopwords\n",
        "from nltk.stem import WordNetLemmatizer\n",
        "from nltk.stem import SnowballStemmer\n",
        "from nltk.tokenize import word_tokenize\n",
        "\n",
        "from sklearn.model_selection import train_test_split\n",
        "from tensorflow.keras.preprocessing.text import Tokenizer\n",
        "from tensorflow.keras.preprocessing.sequence import pad_sequences\n",
        "\n",
        "import tensorflow as tf\n",
        "from keras.layers import LSTM, Bidirectional\n",
        "\n",
        "import matplotlib.pyplot as plt"
      ]
    },
    {
      "cell_type": "code",
      "execution_count": null,
      "metadata": {
        "id": "F2V7eF7fPcSr",
        "outputId": "42f4f82e-0d20-4750-8ecb-29db978259d3"
      },
      "outputs": [
        {
          "data": {
            "text/plain": [
              "'C:\\\\Users\\\\Admin\\\\Documents\\\\IDCamp\\\\multiclass-text\\\\TeePublic_review.csv'"
            ]
          },
          "execution_count": 3,
          "metadata": {},
          "output_type": "execute_result"
        }
      ],
      "source": [
        "\n",
        "# Create parent Folder for the project\n",
        "dir_base = r'C:\\Users\\Admin\\Documents\\IDCamp\\multiclass-text'\n",
        "# os.mkdir(dir_base)\n",
        "\n",
        "# Kaggle API token\n",
        "token = r'C:\\Users\\Admin\\Downloads\\kaggle.json'\n",
        "\n",
        "# Copy the token into the parent folder\n",
        "shutil.copy(token, dir_base)\n",
        "\n",
        "# change directory to parent folder\n",
        "os.chdir(dir_base)\n",
        "\n",
        "# download datasets, the output is a folder of dir_base + shoppersentiments\n",
        "# dataset_url = 'https://www.kaggle.com/datasets/nelgiriyewithana/shoppersentiments'\n",
        "# opendatasets.download(dataset_url)\n",
        "\n",
        "# move the dataset into the parent folder\n",
        "shutil.copy(os.path.join(dir_base,'shoppersentiments\\TeePublic_review.csv'), dir_base)\n"
      ]
    },
    {
      "cell_type": "code",
      "execution_count": null,
      "metadata": {
        "id": "kryNP5zcPcSr",
        "outputId": "13a1907c-1468-4a6b-c288-a2f1e5c7ecf6"
      },
      "outputs": [
        {
          "name": "stderr",
          "output_type": "stream",
          "text": [
            "C:\\Users\\Admin\\AppData\\Local\\Temp\\ipykernel_13216\\3546526803.py:8: SettingWithCopyWarning: \n",
            "A value is trying to be set on a copy of a slice from a DataFrame\n",
            "\n",
            "See the caveats in the documentation: https://pandas.pydata.org/pandas-docs/stable/user_guide/indexing.html#returning-a-view-versus-a-copy\n",
            "  mydf['review-label'].replace([[5,4],3,[2,1]],[\"satisfy\",\"netral\",\"dissappointed\"], inplace=True)\n"
          ]
        },
        {
          "data": {
            "text/html": [
              "<div>\n",
              "<style scoped>\n",
              "    .dataframe tbody tr th:only-of-type {\n",
              "        vertical-align: middle;\n",
              "    }\n",
              "\n",
              "    .dataframe tbody tr th {\n",
              "        vertical-align: top;\n",
              "    }\n",
              "\n",
              "    .dataframe thead th {\n",
              "        text-align: right;\n",
              "    }\n",
              "</style>\n",
              "<table border=\"1\" class=\"dataframe\">\n",
              "  <thead>\n",
              "    <tr style=\"text-align: right;\">\n",
              "      <th></th>\n",
              "      <th>review</th>\n",
              "      <th>review-label</th>\n",
              "    </tr>\n",
              "  </thead>\n",
              "  <tbody>\n",
              "    <tr>\n",
              "      <th>0</th>\n",
              "      <td>I had an order that was lost in transit. When ...</td>\n",
              "      <td>satisfy</td>\n",
              "    </tr>\n",
              "    <tr>\n",
              "      <th>1</th>\n",
              "      <td>I ordered the wrong size tee and had difficult...</td>\n",
              "      <td>satisfy</td>\n",
              "    </tr>\n",
              "    <tr>\n",
              "      <th>2</th>\n",
              "      <td>These guys offer the best customer service in ...</td>\n",
              "      <td>satisfy</td>\n",
              "    </tr>\n",
              "    <tr>\n",
              "      <th>3</th>\n",
              "      <td>Looked for an obscure phrase on a shirt. Teepu...</td>\n",
              "      <td>satisfy</td>\n",
              "    </tr>\n",
              "    <tr>\n",
              "      <th>4</th>\n",
              "      <td>My order arrived in a good timely fashion &amp; th...</td>\n",
              "      <td>satisfy</td>\n",
              "    </tr>\n",
              "    <tr>\n",
              "      <th>...</th>\n",
              "      <td>...</td>\n",
              "      <td>...</td>\n",
              "    </tr>\n",
              "    <tr>\n",
              "      <th>9995</th>\n",
              "      <td>Well, I like the design for one, and all your ...</td>\n",
              "      <td>satisfy</td>\n",
              "    </tr>\n",
              "    <tr>\n",
              "      <th>9996</th>\n",
              "      <td>Great shirts and the shipping is pretty fast!</td>\n",
              "      <td>satisfy</td>\n",
              "    </tr>\n",
              "    <tr>\n",
              "      <th>9997</th>\n",
              "      <td>Quality look good, size perfect. Iï¿½ï¿½ï¿½ï¿½...</td>\n",
              "      <td>satisfy</td>\n",
              "    </tr>\n",
              "    <tr>\n",
              "      <th>9998</th>\n",
              "      <td>The Letters on the Sweater was in Bold Print o...</td>\n",
              "      <td>netral</td>\n",
              "    </tr>\n",
              "    <tr>\n",
              "      <th>9999</th>\n",
              "      <td>NaN</td>\n",
              "      <td>satisfy</td>\n",
              "    </tr>\n",
              "  </tbody>\n",
              "</table>\n",
              "<p>10000 rows × 2 columns</p>\n",
              "</div>"
            ],
            "text/plain": [
              "                                                 review review-label\n",
              "0     I had an order that was lost in transit. When ...      satisfy\n",
              "1     I ordered the wrong size tee and had difficult...      satisfy\n",
              "2     These guys offer the best customer service in ...      satisfy\n",
              "3     Looked for an obscure phrase on a shirt. Teepu...      satisfy\n",
              "4     My order arrived in a good timely fashion & th...      satisfy\n",
              "...                                                 ...          ...\n",
              "9995  Well, I like the design for one, and all your ...      satisfy\n",
              "9996      Great shirts and the shipping is pretty fast!      satisfy\n",
              "9997  Quality look good, size perfect. Iï¿½ï¿½ï¿½ï¿½...      satisfy\n",
              "9998  The Letters on the Sweater was in Bold Print o...       netral\n",
              "9999                                                NaN      satisfy\n",
              "\n",
              "[10000 rows x 2 columns]"
            ]
          },
          "execution_count": 4,
          "metadata": {},
          "output_type": "execute_result"
        }
      ],
      "source": [
        "# read the file, only take first 50.000 data due to memory error\n",
        "df = pd.read_csv('TeePublic_review.csv', encoding='latin-1')\n",
        "df = df.head(10000)\n",
        "\n",
        "# take the necessary columns and reclassify the review star\n",
        "# 4-5 is satisfy, 3 is netral, and 1-2 is dissappointed\n",
        "mydf = df[['review', 'review-label']]\n",
        "mydf['review-label'].replace([[5,4],3,[2,1]],[\"satisfy\",\"netral\",\"dissappointed\"], inplace=True)\n",
        "mydf"
      ]
    },
    {
      "cell_type": "code",
      "execution_count": null,
      "metadata": {
        "id": "e-1j_7OCPcSr"
      },
      "outputs": [],
      "source": [
        "# one hot encoding\n",
        "category = pd.get_dummies(mydf['review-label'])\n",
        "df_baru = pd.concat([mydf, category], axis=1)\n",
        "df_baru = df_baru.drop(columns='review-label')\n",
        "df_baru\n",
        "\n",
        "# change into numpy array\n",
        "review = df_baru['review'].values\n",
        "label = df_baru[['dissappointed', 'netral', 'satisfy' ]].values"
      ]
    },
    {
      "cell_type": "markdown",
      "metadata": {
        "id": "E2xTdN6GPcSs"
      },
      "source": [
        "Text processing\n",
        " cleaning special characters - stemming - lemmatization\n",
        "Reference:\n",
        "\n",
        "https://github.com/Snigdho8869/Multiclass-Text-Classification/blob/main/Notebook/Multiclass_Text_Classification.ipynb\n",
        "\n",
        "https://medium.com/swlh/step-by-step-building-a-multi-class-text-classification-model-with-keras-f78a0209a61a\n",
        "\n",
        "https://www.dicoding.com/academies/185/tutorials/10149/submission-guidance"
      ]
    },
    {
      "cell_type": "code",
      "execution_count": null,
      "metadata": {
        "id": "soCe3NXqPcSs",
        "outputId": "31edb734-6fee-48b2-fc4d-b831c246c275"
      },
      "outputs": [
        {
          "name": "stderr",
          "output_type": "stream",
          "text": [
            "[nltk_data] Downloading package stopwords to\n",
            "[nltk_data]     C:\\Users\\Admin\\AppData\\Roaming\\nltk_data...\n",
            "[nltk_data]   Package stopwords is already up-to-date!\n",
            "[nltk_data] Downloading package wordnet to\n",
            "[nltk_data]     C:\\Users\\Admin\\AppData\\Roaming\\nltk_data...\n",
            "[nltk_data]   Package wordnet is already up-to-date!\n",
            "[nltk_data] Downloading package averaged_perceptron_tagger to\n",
            "[nltk_data]     C:\\Users\\Admin\\AppData\\Roaming\\nltk_data...\n",
            "[nltk_data]   Package averaged_perceptron_tagger is already up-to-\n",
            "[nltk_data]       date!\n",
            "[nltk_data] Downloading package gutenberg to\n",
            "[nltk_data]     C:\\Users\\Admin\\AppData\\Roaming\\nltk_data...\n",
            "[nltk_data]   Package gutenberg is already up-to-date!\n",
            "[nltk_data] Downloading package punkt to\n",
            "[nltk_data]     C:\\Users\\Admin\\AppData\\Roaming\\nltk_data...\n",
            "[nltk_data]   Package punkt is already up-to-date!\n"
          ]
        },
        {
          "data": {
            "text/plain": [
              "True"
            ]
          },
          "execution_count": 6,
          "metadata": {},
          "output_type": "execute_result"
        }
      ],
      "source": [
        "# download the nltk package\n",
        "nltk.download('stopwords')\n",
        "nltk.download('wordnet')\n",
        "nltk.download('averaged_perceptron_tagger')\n",
        "nltk.download('gutenberg')\n",
        "nltk.download('punkt')"
      ]
    },
    {
      "cell_type": "code",
      "execution_count": null,
      "metadata": {
        "id": "svtaWpk3PcSs",
        "outputId": "0291377b-b7fe-40c7-ead0-48c14195fe11"
      },
      "outputs": [
        {
          "data": {
            "text/plain": [
              "array(['order lost transit call help custom servic repres got new order place right away receiv new order w',\n",
              "       'order wrong size tee difficulti return websit contact tee public respond almost immedi resolv issu sent new tee shirt high prais excel custom servic',\n",
              "       'guy offer best custom servic retail product high qualiti fantast select design product option',\n",
              "       ...,\n",
              "       'qualiti look good size perfect done mistak command refund correct order quick serv',\n",
              "       'letter sweater bold print thesoci medium advertis receiv hoodi print much smaller point close person see hoodi say truth reason purchas hoodi first place realli like bold letter said hillman colleg',\n",
              "       'nan'], dtype='<U1716')"
            ]
          },
          "execution_count": 7,
          "metadata": {},
          "output_type": "execute_result"
        }
      ],
      "source": [
        "# iterate the process of:\n",
        "# cleaning special characters - stop words - stemming - lemmatization\n",
        "stop_words = set(stopwords.words('english'))\n",
        "stemmer = SnowballStemmer('english')\n",
        "wordnet_lemmatizer = WordNetLemmatizer()\n",
        "new_sentence = []\n",
        "for text in review:\n",
        "  text = re.sub('[^a-zA-Z]', ' ', str(text))\n",
        "  word_tokens = word_tokenize(text)\n",
        "  filtered_words = [wordnet_lemmatizer.lemmatize(stemmer.stem(w)) for w in word_tokens if not w.lower() in stop_words]\n",
        "  cleaned_sentence = ' '.join(filtered_words)\n",
        "  new_sentence.append(cleaned_sentence)\n",
        "\n",
        "# transform the result back into array\n",
        "review = np.array(new_sentence)\n",
        "review\n"
      ]
    },
    {
      "cell_type": "code",
      "execution_count": null,
      "metadata": {
        "id": "gK5LdZaVPcSt",
        "outputId": "399f2128-d373-4fa3-b808-64b32b7a9ba9"
      },
      "outputs": [
        {
          "name": "stdout",
          "output_type": "stream",
          "text": [
            "(8000,) (2000,)\n",
            "(8000, 3) (2000, 3)\n"
          ]
        }
      ],
      "source": [
        "# split the data into train and validation\n",
        "review_train, review_test, label_train, label_test = train_test_split(review, label, test_size=0.2)\n",
        "\n",
        "# tokenizer function\n",
        "# tokenizer tetap digunakan pada data validation karena hasilnya lebih baik dengan data validation\n",
        "tokenizer = Tokenizer(num_words=5000, oov_token='x')\n",
        "tokenizer.fit_on_texts(review_train)\n",
        "tokenizer.fit_on_texts(review_test)\n",
        "\n",
        "\n",
        "sequence_train = tokenizer.texts_to_sequences(review_train)\n",
        "sequence_test = tokenizer.texts_to_sequences(review_test)\n",
        "\n",
        "# pad sequence\n",
        "padded_train = pad_sequences(sequence_train,padding='post',maxlen=7,truncating='post')\n",
        "padded_test = pad_sequences(sequence_test,padding='post',maxlen=7,truncating='post')\n",
        "\n",
        "print(review_train.shape, review_test.shape)\n",
        "print(label_train.shape, label_test.shape)\n"
      ]
    },
    {
      "cell_type": "code",
      "execution_count": null,
      "metadata": {
        "id": "QORF46UPPcSt"
      },
      "outputs": [],
      "source": [
        "# create a model\n",
        "model = tf.keras.Sequential([\n",
        "    tf.keras.layers.Embedding(input_dim=5000, output_dim=256),\n",
        "    tf.keras.layers.SpatialDropout1D(0.8),\n",
        "    tf.keras.layers.Bidirectional(LSTM(300, dropout=0.5, recurrent_dropout=0.7)),\n",
        "    tf.keras.layers.Dense(128, activation='relu'),\n",
        "    tf.keras.layers.Dropout(0.5),\n",
        "    tf.keras.layers.Flatten(),\n",
        "    tf.keras.layers.Dense(64, activation='relu'),\n",
        "    tf.keras.layers.Dropout(0.5),\n",
        "    tf.keras.layers.Dense(64, activation='relu'),\n",
        "    tf.keras.layers.Dense(3, activation='softmax')\n",
        "])\n",
        "model.compile(loss='categorical_crossentropy',optimizer='adam',metrics=['accuracy'])"
      ]
    },
    {
      "cell_type": "code",
      "execution_count": null,
      "metadata": {
        "id": "tF9kAyJ2PcSt"
      },
      "outputs": [],
      "source": [
        "# create a callback function from inheritance of keras callback\n",
        "class tf_callback(tf.keras.callbacks.Callback):\n",
        "    def on_epoch_end(self, epoch, logs={}):\n",
        "        if(logs.get('val_accuracy') > 0.90 and logs.get('accuracy') > 0.90):\n",
        "            self.model.stop_training = True\n",
        "\n",
        "callbacks = tf_callback()"
      ]
    },
    {
      "cell_type": "code",
      "execution_count": null,
      "metadata": {
        "id": "qFTBuEj7PcSu",
        "outputId": "00894e9b-60d3-441b-92fc-2db457dadc19"
      },
      "outputs": [
        {
          "name": "stdout",
          "output_type": "stream",
          "text": [
            "Epoch 1/30\n",
            "250/250 - 33s - loss: 0.4422 - accuracy: 0.8739 - val_loss: 0.3413 - val_accuracy: 0.8850 - 33s/epoch - 130ms/step\n",
            "Epoch 2/30\n",
            "250/250 - 27s - loss: 0.3523 - accuracy: 0.8832 - val_loss: 0.3209 - val_accuracy: 0.8990 - 27s/epoch - 108ms/step\n",
            "Epoch 3/30\n",
            "250/250 - 27s - loss: 0.3279 - accuracy: 0.8981 - val_loss: 0.3144 - val_accuracy: 0.9020 - 27s/epoch - 109ms/step\n",
            "Epoch 4/30\n",
            "250/250 - 27s - loss: 0.3085 - accuracy: 0.9021 - val_loss: 0.3137 - val_accuracy: 0.9010 - 27s/epoch - 109ms/step\n"
          ]
        }
      ],
      "source": [
        "# fit the model\n",
        "num_epochs = 30\n",
        "history = model.fit(padded_train, label_train, epochs=num_epochs,\n",
        "                    validation_data=(padded_test, label_test), verbose=2, callbacks = [callbacks])"
      ]
    },
    {
      "cell_type": "code",
      "execution_count": null,
      "metadata": {
        "id": "34YJlOKHPcSu",
        "outputId": "635a0f3d-7dbb-4456-f554-6c17da44ba97"
      },
      "outputs": [
        {
          "data": {
            "image/png": "[encoded data removed]",
            "text/plain": [
              "<Figure size 640x480 with 1 Axes>"
            ]
          },
          "metadata": {},
          "output_type": "display_data"
        }
      ],
      "source": [
        "# plot the result - plot the model loss\n",
        "plt.plot(history.history['loss'])\n",
        "plt.plot(history.history['val_loss'])\n",
        "plt.title('Model loss')\n",
        "plt.ylabel('Loss')\n",
        "plt.xlabel('Epoch')\n",
        "plt.legend(['Train', 'Validation'], loc='upper right')\n",
        "plt.show()"
      ]
    },
    {
      "cell_type": "code",
      "execution_count": null,
      "metadata": {
        "id": "P_jE7yrbPcSu",
        "outputId": "19d21815-092c-4848-afd1-484d53c3ebc6"
      },
      "outputs": [
        {
          "data": {
            "image/png": "[encoded data removed]",
            "text/plain": [
              "<Figure size 640x480 with 1 Axes>"
            ]
          },
          "metadata": {},
          "output_type": "display_data"
        }
      ],
      "source": [
        "# plot the model accuracy\n",
        "plt.plot(history.history['accuracy'])\n",
        "plt.plot(history.history['val_accuracy'])\n",
        "plt.title('Accuracy')\n",
        "plt.ylabel('accuracy')\n",
        "plt.xlabel('Epoch')\n",
        "plt.legend(['Train', 'Validation'], loc='upper right')\n",
        "plt.show()"
      ]
    }
  ],
  "metadata": {
    "kernelspec": {
      "display_name": "Python 3",
      "language": "python",
      "name": "python3"
    },
    "language_info": {
      "codemirror_mode": {
        "name": "ipython",
        "version": 3
      },
      "file_extension": ".py",
      "mimetype": "text/x-python",
      "name": "python",
      "nbconvert_exporter": "python",
      "pygments_lexer": "ipython3",
      "version": "3.11.7"
    },
    "colab": {
      "provenance": [],
      "include_colab_link": true
    }
  },
  "nbformat": 4,
  "nbformat_minor": 0
}